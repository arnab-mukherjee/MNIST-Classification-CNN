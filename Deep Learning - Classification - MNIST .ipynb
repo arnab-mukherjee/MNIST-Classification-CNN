{
 "cells": [
  {
   "cell_type": "markdown",
   "metadata": {},
   "source": [
    "# Load Libraries"
   ]
  },
  {
   "cell_type": "code",
   "execution_count": 1,
   "metadata": {},
   "outputs": [
    {
     "name": "stderr",
     "output_type": "stream",
     "text": [
      "Using TensorFlow backend.\n"
     ]
    }
   ],
   "source": [
    "import pandas as pd\n",
    "import numpy as np\n",
    "import matplotlib\n",
    "import matplotlib.pyplot as plt\n",
    "import tensorflow as tf\n",
    "import keras\n",
    "from __future__ import print_function\n",
    "from keras.models import Sequential\n",
    "from keras.layers import Dense, Dropout, Flatten, BatchNormalization, Activation\n",
    "from keras.layers import Conv2D, MaxPooling2D\n",
    "from keras import backend as K\n",
    "from keras.preprocessing.image import ImageDataGenerator\n",
    "from sklearn.metrics import classification_report"
   ]
  },
  {
   "cell_type": "markdown",
   "metadata": {},
   "source": [
    "# Import Data"
   ]
  },
  {
   "cell_type": "code",
   "execution_count": 2,
   "metadata": {},
   "outputs": [],
   "source": [
    "from keras.datasets import fashion_mnist\n",
    "(x_train, y_train), (x_test, y_test) = fashion_mnist.load_data()"
   ]
  },
  {
   "cell_type": "markdown",
   "metadata": {},
   "source": [
    "# Define Image Size and Number of Classes"
   ]
  },
  {
   "cell_type": "code",
   "execution_count": 3,
   "metadata": {},
   "outputs": [],
   "source": [
    "img_rows, img_cols = 28, 28\n",
    "num_classes = 10"
   ]
  },
  {
   "cell_type": "markdown",
   "metadata": {},
   "source": [
    "# Convert Data to Array type"
   ]
  },
  {
   "cell_type": "code",
   "execution_count": 4,
   "metadata": {},
   "outputs": [],
   "source": [
    "x_train = np.array(x_train)\n",
    "y_train = np.array(y_train)\n",
    "x_test = np.array(x_test)\n",
    "y_test = np.array(y_test)"
   ]
  },
  {
   "cell_type": "markdown",
   "metadata": {},
   "source": [
    "# Data Pre-Processing: Reshaping"
   ]
  },
  {
   "cell_type": "code",
   "execution_count": 5,
   "metadata": {},
   "outputs": [
    {
     "name": "stdout",
     "output_type": "stream",
     "text": [
      "x_train shape: (60000, 28, 28, 1)\n",
      "60000 train samples\n",
      "10000 test samples\n"
     ]
    }
   ],
   "source": [
    "if K.image_data_format() == 'channels_first':\n",
    "    x_train = x_train.reshape(x_train.shape[0], 1, img_rows, img_cols)\n",
    "    x_test = x_test.reshape(x_test.shape[0], 1, img_rows, img_cols)\n",
    "    input_shape = (1, img_rows, img_cols)\n",
    "else:\n",
    "    x_train = x_train.reshape(x_train.shape[0], img_rows, img_cols, 1)\n",
    "    x_test = x_test.reshape(x_test.shape[0], img_rows, img_cols, 1)\n",
    "    input_shape = (img_rows, img_cols, 1)\n",
    "\n",
    "x_train = x_train.astype('float32')\n",
    "x_test = x_test.astype('float32')\n",
    "x_train /= 255\n",
    "x_test /= 255\n",
    "print('x_train shape:', x_train.shape)\n",
    "print(x_train.shape[0], 'train samples')\n",
    "print(x_test.shape[0], 'test samples')\n",
    "\n",
    "#Convert class vectors to binary class matrices\n",
    "y_train = keras.utils.to_categorical(y_train, num_classes)\n",
    "y_test = keras.utils.to_categorical(y_test, num_classes)"
   ]
  },
  {
   "cell_type": "markdown",
   "metadata": {},
   "source": [
    "# Model Architecture Definition"
   ]
  },
  {
   "cell_type": "code",
   "execution_count": 6,
   "metadata": {},
   "outputs": [],
   "source": [
    "model = Sequential()\n",
    "\n",
    "#Input Layer\n",
    "model.add(Conv2D(32, kernel_size=(3, 3), input_shape=input_shape))\n",
    "model.add(BatchNormalization(axis=-1))\n",
    "model.add(Activation('relu'))\n",
    "\n",
    "#2nd Layer\n",
    "model.add(Conv2D(32, kernel_size=(3, 3)))\n",
    "model.add(BatchNormalization(axis=-1))\n",
    "model.add(Activation('relu'))\n",
    "\n",
    "#3rd Layer\n",
    "model.add(Conv2D(64, kernel_size=(3, 3)))\n",
    "model.add(BatchNormalization(axis=-1))\n",
    "model.add(Activation('relu'))\n",
    "\n",
    "#MaxPooling\n",
    "model.add(MaxPooling2D(pool_size=(2, 2)))\n",
    "\n",
    "#Flatten\n",
    "model.add(Flatten())\n",
    "\n",
    "#Dense Neural Network\n",
    "model.add(Dense(512))\n",
    "model.add(BatchNormalization())\n",
    "model.add(Activation('relu'))\n",
    "model.add(Dropout(0.2))\n",
    "\n",
    "#Output Layer\n",
    "model.add(Dense(num_classes, activation='softmax'))"
   ]
  },
  {
   "cell_type": "markdown",
   "metadata": {},
   "source": [
    "# Early Stopping Criteria"
   ]
  },
  {
   "cell_type": "code",
   "execution_count": 7,
   "metadata": {},
   "outputs": [],
   "source": [
    "early_stop = keras.callbacks.EarlyStopping(monitor='val_loss', min_delta=0, patience=7, verbose=1)"
   ]
  },
  {
   "cell_type": "markdown",
   "metadata": {},
   "source": [
    "# Compile Model"
   ]
  },
  {
   "cell_type": "code",
   "execution_count": 8,
   "metadata": {},
   "outputs": [],
   "source": [
    "model.compile(loss=keras.losses.categorical_crossentropy,\n",
    "              optimizer=keras.optimizers.adam(),\n",
    "              metrics=['accuracy'])"
   ]
  },
  {
   "cell_type": "markdown",
   "metadata": {},
   "source": [
    "# Fit Model"
   ]
  },
  {
   "cell_type": "code",
   "execution_count": 9,
   "metadata": {},
   "outputs": [
    {
     "name": "stdout",
     "output_type": "stream",
     "text": [
      "Train on 60000 samples, validate on 10000 samples\n",
      "Epoch 1/30\n",
      "60000/60000 [==============================] - 53s 881us/step - loss: 0.3327 - acc: 0.8801 - val_loss: 0.3018 - val_acc: 0.8880\n",
      "Epoch 2/30\n",
      "60000/60000 [==============================] - 49s 810us/step - loss: 0.1990 - acc: 0.9273 - val_loss: 0.2680 - val_acc: 0.9039\n",
      "Epoch 3/30\n",
      "60000/60000 [==============================] - 49s 811us/step - loss: 0.1467 - acc: 0.9468 - val_loss: 0.2687 - val_acc: 0.9065\n",
      "Epoch 4/30\n",
      "60000/60000 [==============================] - 49s 809us/step - loss: 0.1055 - acc: 0.9619 - val_loss: 0.2893 - val_acc: 0.9101\n",
      "Epoch 5/30\n",
      "60000/60000 [==============================] - 49s 821us/step - loss: 0.0763 - acc: 0.9723 - val_loss: 0.2725 - val_acc: 0.9171\n",
      "Epoch 6/30\n",
      "60000/60000 [==============================] - 49s 811us/step - loss: 0.0523 - acc: 0.9816 - val_loss: 0.2779 - val_acc: 0.9199\n",
      "Epoch 7/30\n",
      "60000/60000 [==============================] - 49s 809us/step - loss: 0.0382 - acc: 0.9872 - val_loss: 0.2960 - val_acc: 0.9178\n",
      "Epoch 8/30\n",
      "60000/60000 [==============================] - 49s 814us/step - loss: 0.0308 - acc: 0.9896 - val_loss: 0.3055 - val_acc: 0.9212\n",
      "Epoch 9/30\n",
      "60000/60000 [==============================] - 49s 809us/step - loss: 0.0263 - acc: 0.9909 - val_loss: 0.3765 - val_acc: 0.9062\n",
      "Epoch 00009: early stopping\n"
     ]
    },
    {
     "data": {
      "text/plain": [
       "<keras.callbacks.History at 0x188326df2b0>"
      ]
     },
     "execution_count": 9,
     "metadata": {},
     "output_type": "execute_result"
    }
   ],
   "source": [
    "model.fit(x_train, y_train,\n",
    "          batch_size=128,\n",
    "          epochs=30,\n",
    "          verbose=1,\n",
    "          validation_data=(x_test, y_test),\n",
    "          callbacks = [early_stop])"
   ]
  },
  {
   "cell_type": "markdown",
   "metadata": {},
   "source": [
    "# Evaluate Model: Train and Test Accuracy"
   ]
  },
  {
   "cell_type": "code",
   "execution_count": 10,
   "metadata": {},
   "outputs": [
    {
     "name": "stdout",
     "output_type": "stream",
     "text": [
      "Train accuracy: 0.37649434734284876\n",
      "Test accuracy: 0.9062\n"
     ]
    }
   ],
   "source": [
    "score = model.evaluate(x_test, y_test, verbose=0)\n",
    "no_aug_train_acc = score[0]\n",
    "no_aug_test_acc = score[1]\n",
    "print('Train accuracy:', no_aug_train_acc)\n",
    "print('Test accuracy:', no_aug_test_acc)"
   ]
  },
  {
   "cell_type": "markdown",
   "metadata": {},
   "source": [
    "# Classification Report: No Augmentation"
   ]
  },
  {
   "cell_type": "code",
   "execution_count": 11,
   "metadata": {},
   "outputs": [
    {
     "name": "stdout",
     "output_type": "stream",
     "text": [
      "              precision    recall  f1-score   support\n",
      "\n",
      "           0       0.93      0.81      0.86      1000\n",
      "           1       1.00      0.98      0.99      1000\n",
      "           2       0.94      0.79      0.86      1000\n",
      "           3       0.88      0.95      0.91      1000\n",
      "           4       0.92      0.79      0.85      1000\n",
      "           5       0.99      0.95      0.97      1000\n",
      "           6       0.65      0.87      0.74      1000\n",
      "           7       0.96      0.96      0.96      1000\n",
      "           8       0.96      0.99      0.98      1000\n",
      "           9       0.94      0.98      0.96      1000\n",
      "\n",
      "   micro avg       0.91      0.91      0.91     10000\n",
      "   macro avg       0.92      0.91      0.91     10000\n",
      "weighted avg       0.92      0.91      0.91     10000\n",
      "\n"
     ]
    }
   ],
   "source": [
    "y_pred = model.predict_classes(x_test)\n",
    "\n",
    "\n",
    "y_test_class = y_test.argmax(axis=-1)\n",
    "print(classification_report(y_test_class,y_pred))"
   ]
  },
  {
   "cell_type": "markdown",
   "metadata": {},
   "source": [
    "# Vertical Flip Data Augmentation"
   ]
  },
  {
   "cell_type": "code",
   "execution_count": 12,
   "metadata": {},
   "outputs": [],
   "source": [
    "vertical_gen = ImageDataGenerator(fill_mode='nearest',\n",
    "                                  vertical_flip=True)"
   ]
  },
  {
   "cell_type": "code",
   "execution_count": 13,
   "metadata": {},
   "outputs": [],
   "source": [
    "#Flip Images Vertically\n",
    "vertical_generator_train = vertical_gen.flow(x_train,y_train,batch_size=64)\n",
    "vertical_generator_test = vertical_gen.flow(x_test,y_test,batch_size=64)"
   ]
  },
  {
   "cell_type": "code",
   "execution_count": 14,
   "metadata": {},
   "outputs": [
    {
     "data": {
      "image/png": "[encoded data removed]",
      "text/plain": [
       "<Figure size 432x288 with 9 Axes>"
      ]
     },
     "metadata": {},
     "output_type": "display_data"
    }
   ],
   "source": [
    "#Display flipped Images\n",
    "for x_batch, y_batch in vertical_gen.flow(x_train, y_train, batch_size=9):\n",
    "    for i in range(0,9):\n",
    "        plt.subplot(330 + 1 + i)\n",
    "        plt.imshow(x_batch[i].reshape(img_rows, img_cols))\n",
    "    plt.show()\n",
    "    break"
   ]
  },
  {
   "cell_type": "code",
   "execution_count": 15,
   "metadata": {},
   "outputs": [
    {
     "name": "stdout",
     "output_type": "stream",
     "text": [
      "Epoch 1/15\n",
      "937/937 [==============================] - 65s 70ms/step - loss: 0.2788 - acc: 0.9052 - val_loss: 0.3092 - val_acc: 0.8886\n",
      "Epoch 2/15\n",
      "937/937 [==============================] - 65s 70ms/step - loss: 0.1607 - acc: 0.9440 - val_loss: 0.3150 - val_acc: 0.8968\n",
      "Epoch 3/15\n",
      "937/937 [==============================] - 65s 69ms/step - loss: 0.1292 - acc: 0.9544 - val_loss: 0.2915 - val_acc: 0.9078\n",
      "Epoch 4/15\n",
      "937/937 [==============================] - 67s 71ms/step - loss: 0.1067 - acc: 0.9617 - val_loss: 0.2698 - val_acc: 0.9150\n",
      "Epoch 5/15\n",
      "937/937 [==============================] - 66s 70ms/step - loss: 0.0902 - acc: 0.9681 - val_loss: 0.2880 - val_acc: 0.9139\n",
      "Epoch 6/15\n",
      "937/937 [==============================] - 65s 70ms/step - loss: 0.0791 - acc: 0.9720 - val_loss: 0.2652 - val_acc: 0.9185\n",
      "Epoch 7/15\n",
      "937/937 [==============================] - 65s 69ms/step - loss: 0.0642 - acc: 0.9780 - val_loss: 0.3073 - val_acc: 0.9146\n",
      "Epoch 8/15\n",
      "937/937 [==============================] - 65s 69ms/step - loss: 0.0560 - acc: 0.9803 - val_loss: 0.2945 - val_acc: 0.9142\n",
      "Epoch 9/15\n",
      "937/937 [==============================] - 65s 69ms/step - loss: 0.0461 - acc: 0.9842 - val_loss: 0.3109 - val_acc: 0.9186\n",
      "Epoch 10/15\n",
      "937/937 [==============================] - 66s 70ms/step - loss: 0.0460 - acc: 0.9846 - val_loss: 0.3158 - val_acc: 0.9174\n",
      "Epoch 11/15\n",
      "937/937 [==============================] - 65s 69ms/step - loss: 0.0408 - acc: 0.9858 - val_loss: 0.3275 - val_acc: 0.9139\n",
      "Epoch 12/15\n",
      "937/937 [==============================] - 66s 70ms/step - loss: 0.0375 - acc: 0.9867 - val_loss: 0.3906 - val_acc: 0.9080\n",
      "Epoch 13/15\n",
      "937/937 [==============================] - 66s 70ms/step - loss: 0.0332 - acc: 0.9884 - val_loss: 0.3077 - val_acc: 0.9193\n",
      "Epoch 00013: early stopping\n"
     ]
    },
    {
     "data": {
      "text/plain": [
       "<keras.callbacks.History at 0x1889f7737b8>"
      ]
     },
     "execution_count": 15,
     "metadata": {},
     "output_type": "execute_result"
    }
   ],
   "source": [
    "#Improve Model\n",
    "model.fit_generator(vertical_generator_train,\n",
    "                    steps_per_epoch=60000//64,\n",
    "                    epochs = 15,\n",
    "                    validation_data=vertical_generator_test,\n",
    "                    validation_steps=10000//64,\n",
    "                    callbacks=[early_stop])"
   ]
  },
  {
   "cell_type": "code",
   "execution_count": 16,
   "metadata": {},
   "outputs": [
    {
     "name": "stdout",
     "output_type": "stream",
     "text": [
      "Train accuracy: 0.32474234215430914\n",
      "Test accuracy: 0.919\n"
     ]
    }
   ],
   "source": [
    "#Evaluate Model\n",
    "score = model.evaluate(x_test, y_test, verbose=0)\n",
    "ver_aug_train_acc = score[0]\n",
    "ver_aug_test_acc = score[1]\n",
    "print('Train accuracy:', ver_aug_train_acc)\n",
    "print('Test accuracy:', ver_aug_test_acc)"
   ]
  },
  {
   "cell_type": "markdown",
   "metadata": {},
   "source": [
    "# Classification Report: Vertical Flip Data Augmentation"
   ]
  },
  {
   "cell_type": "code",
   "execution_count": 17,
   "metadata": {},
   "outputs": [
    {
     "name": "stdout",
     "output_type": "stream",
     "text": [
      "              precision    recall  f1-score   support\n",
      "\n",
      "           0       0.90      0.83      0.87      1000\n",
      "           1       0.97      0.99      0.98      1000\n",
      "           2       0.88      0.90      0.89      1000\n",
      "           3       0.94      0.88      0.91      1000\n",
      "           4       0.87      0.89      0.88      1000\n",
      "           5       0.99      0.98      0.98      1000\n",
      "           6       0.75      0.81      0.78      1000\n",
      "           7       0.95      0.98      0.96      1000\n",
      "           8       0.98      0.98      0.98      1000\n",
      "           9       0.98      0.96      0.97      1000\n",
      "\n",
      "   micro avg       0.92      0.92      0.92     10000\n",
      "   macro avg       0.92      0.92      0.92     10000\n",
      "weighted avg       0.92      0.92      0.92     10000\n",
      "\n"
     ]
    }
   ],
   "source": [
    "y_pred = model.predict_classes(x_test)\n",
    "\n",
    "\n",
    "y_test_class = y_test.argmax(axis=-1)\n",
    "print(classification_report(y_test_class,y_pred))"
   ]
  },
  {
   "cell_type": "markdown",
   "metadata": {},
   "source": [
    "# Horizontal Flip Data Augmentation"
   ]
  },
  {
   "cell_type": "code",
   "execution_count": 18,
   "metadata": {},
   "outputs": [],
   "source": [
    "horizontal_gen = ImageDataGenerator(fill_mode='nearest',\n",
    "                                    horizontal_flip=True)"
   ]
  },
  {
   "cell_type": "code",
   "execution_count": 19,
   "metadata": {},
   "outputs": [],
   "source": [
    "#Flip Images Horizontally\n",
    "horizontal_generator_train = horizontal_gen.flow(x_train,y_train,batch_size=64)\n",
    "horizontal_generator_test = horizontal_gen.flow(x_test,y_test,batch_size=64)"
   ]
  },
  {
   "cell_type": "code",
   "execution_count": 20,
   "metadata": {},
   "outputs": [
    {
     "data": {
      "image/png": "[encoded data removed]",
      "text/plain": [
       "<Figure size 432x288 with 9 Axes>"
      ]
     },
     "metadata": {},
     "output_type": "display_data"
    }
   ],
   "source": [
    "#Display flipped Images\n",
    "for x_batch, y_batch in horizontal_gen.flow(x_train, y_train, batch_size=9):\n",
    "    for i in range(0,9):\n",
    "        plt.subplot(330 + 1 + i)\n",
    "        plt.imshow(x_batch[i].reshape(img_rows, img_cols))\n",
    "    plt.show()\n",
    "    break"
   ]
  },
  {
   "cell_type": "code",
   "execution_count": 21,
   "metadata": {},
   "outputs": [
    {
     "name": "stdout",
     "output_type": "stream",
     "text": [
      "Epoch 1/15\n",
      "937/937 [==============================] - 65s 70ms/step - loss: 0.1698 - acc: 0.9466 - val_loss: 0.2421 - val_acc: 0.9205\n",
      "Epoch 2/15\n",
      "937/937 [==============================] - 65s 70ms/step - loss: 0.0882 - acc: 0.9701 - val_loss: 0.2405 - val_acc: 0.9251\n",
      "Epoch 3/15\n",
      "937/937 [==============================] - 65s 69ms/step - loss: 0.0657 - acc: 0.9777 - val_loss: 0.2569 - val_acc: 0.9206\n",
      "Epoch 4/15\n",
      "937/937 [==============================] - 65s 69ms/step - loss: 0.0489 - acc: 0.9830 - val_loss: 0.2687 - val_acc: 0.9258\n",
      "Epoch 5/15\n",
      "937/937 [==============================] - 65s 69ms/step - loss: 0.0429 - acc: 0.9858 - val_loss: 0.3005 - val_acc: 0.9199\n",
      "Epoch 6/15\n",
      "937/937 [==============================] - 65s 69ms/step - loss: 0.0339 - acc: 0.9886 - val_loss: 0.2748 - val_acc: 0.9303\n",
      "Epoch 7/15\n",
      "937/937 [==============================] - 65s 69ms/step - loss: 0.0313 - acc: 0.9891 - val_loss: 0.2969 - val_acc: 0.9316\n",
      "Epoch 8/15\n",
      "937/937 [==============================] - 65s 69ms/step - loss: 0.0263 - acc: 0.9912 - val_loss: 0.2996 - val_acc: 0.9286\n",
      "Epoch 9/15\n",
      "937/937 [==============================] - 65s 69ms/step - loss: 0.0225 - acc: 0.9923 - val_loss: 0.3278 - val_acc: 0.9270\n",
      "Epoch 00009: early stopping\n"
     ]
    },
    {
     "data": {
      "text/plain": [
       "<keras.callbacks.History at 0x188326df908>"
      ]
     },
     "execution_count": 21,
     "metadata": {},
     "output_type": "execute_result"
    }
   ],
   "source": [
    "#Improve Model\n",
    "model.fit_generator(horizontal_generator_train,\n",
    "                    steps_per_epoch=60000//64,\n",
    "                    epochs = 15,\n",
    "                    validation_data=horizontal_generator_test,\n",
    "                    validation_steps=10000//64,\n",
    "                    callbacks=[early_stop])"
   ]
  },
  {
   "cell_type": "code",
   "execution_count": 22,
   "metadata": {},
   "outputs": [
    {
     "name": "stdout",
     "output_type": "stream",
     "text": [
      "Train accuracy: 0.32613087266488\n",
      "Test accuracy: 0.9291\n"
     ]
    }
   ],
   "source": [
    "#Evaluate Model\n",
    "score = model.evaluate(x_test, y_test, verbose=0)\n",
    "hor_aug_train_acc = score[0]\n",
    "hor_aug_test_acc = score[1]\n",
    "print('Train accuracy:', hor_aug_train_acc)\n",
    "print('Test accuracy:', hor_aug_test_acc)"
   ]
  },
  {
   "cell_type": "markdown",
   "metadata": {},
   "source": [
    "# Classification Report: Horizontal Flip Data Augmentation"
   ]
  },
  {
   "cell_type": "code",
   "execution_count": 23,
   "metadata": {},
   "outputs": [
    {
     "name": "stdout",
     "output_type": "stream",
     "text": [
      "              precision    recall  f1-score   support\n",
      "\n",
      "           0       0.89      0.89      0.89      1000\n",
      "           1       0.99      0.98      0.98      1000\n",
      "           2       0.87      0.93      0.89      1000\n",
      "           3       0.93      0.92      0.93      1000\n",
      "           4       0.88      0.91      0.90      1000\n",
      "           5       0.99      0.96      0.98      1000\n",
      "           6       0.84      0.77      0.80      1000\n",
      "           7       0.95      0.98      0.96      1000\n",
      "           8       0.98      0.99      0.99      1000\n",
      "           9       0.97      0.97      0.97      1000\n",
      "\n",
      "   micro avg       0.93      0.93      0.93     10000\n",
      "   macro avg       0.93      0.93      0.93     10000\n",
      "weighted avg       0.93      0.93      0.93     10000\n",
      "\n"
     ]
    }
   ],
   "source": [
    "y_pred = model.predict_classes(x_test)\n",
    "\n",
    "y_test_class = y_test.argmax(axis=-1)\n",
    "print(classification_report(y_test_class,y_pred))"
   ]
  }
 ],
 "metadata": {
  "kernelspec": {
   "display_name": "Python 3",
   "language": "python",
   "name": "python3"
  },
  "language_info": {
   "codemirror_mode": {
    "name": "ipython",
    "version": 3
   },
   "file_extension": ".py",
   "mimetype": "text/x-python",
   "name": "python",
   "nbconvert_exporter": "python",
   "pygments_lexer": "ipython3",
   "version": "3.6.7"
  }
 },
 "nbformat": 4,
 "nbformat_minor": 2
}
